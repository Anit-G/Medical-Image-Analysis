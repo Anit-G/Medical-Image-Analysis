{
 "cells": [
  {
   "cell_type": "code",
   "execution_count": null,
   "metadata": {},
   "outputs": [],
   "source": [
    "import numpy as np\n",
    "from PIL import Image\n",
    "import matplotlib.pyplot as plt\n",
    "import os\n",
    "import cv2 as cv\n",
    "import pydicom as pyd\n",
    "from histogram_equalization import preprocess,watersheding,validation,alpha_seg\n",
    "\n",
    "ddd = './Data/dicom_dir/'               #Data Dir DICOM\n",
    "#Wddt = \"./Data/tiff_images/\"             #Data Dir Tiff"
   ]
  },
  {
   "cell_type": "code",
   "execution_count": null,
   "metadata": {},
   "outputs": [],
   "source": [
    "im = pyd.dcmread(ddd+os.listdir(ddd)[2])\n",
    "plt.figure(figsize=(10,10))\n",
    "plt.imshow(im.pixel_array,cmap='gray')"
   ]
  },
  {
   "cell_type": "code",
   "execution_count": null,
   "metadata": {},
   "outputs": [],
   "source": [
    "plt.figure(figsize=(10,10))\n",
    "plt.imshow(preprocess(im,'mg','conv')[0],cmap='gray')"
   ]
  },
  {
   "cell_type": "code",
   "execution_count": null,
   "metadata": {},
   "outputs": [],
   "source": [
    "# Define the images that will be used for the analysis process\n",
    "img1 = preprocess(pyd.dcmread(ddd+os.listdir(ddd)[1]),'mg','conv')[0]\n",
    "img2 = preprocess(pyd.dcmread(ddd+os.listdir(ddd)[0]),'mg','conv')[0]\n",
    "img3 = preprocess(pyd.dcmread(ddd+os.listdir(ddd)[2]),'mg','conv')[0]\n",
    "\n",
    "fig, ax = plt.subplots(2,3,figsize=(25,10),gridspec_kw={'height_ratios': [5, 1]})\n",
    "ax[0,0].imshow(img1,cmap='gray')\n",
    "ax[0,1].imshow(img2,cmap='gray')\n",
    "ax[0,2].imshow(img3,cmap='gray')\n",
    "\n",
    "ax[1,0].hist(img1.flatten(),bins=255)\n",
    "ax[1,1].hist(img2.flatten(),bins=255)\n",
    "ax[1,2].hist(img3.flatten(),bins=255)\n",
    "plt.show()"
   ]
  },
  {
   "cell_type": "markdown",
   "metadata": {},
   "source": [
    "# Otsu Segmentation for seeding the images"
   ]
  },
  {
   "cell_type": "code",
   "execution_count": null,
   "metadata": {},
   "outputs": [],
   "source": [
    "def f_b_seg(img,t1,t2):\n",
    "    img_map = []\n",
    "    for x in img.flatten():\n",
    "        if  t1<= x <=t2:\n",
    "            img_map.append(1)\n",
    "        else:\n",
    "            img_map.append(0)\n",
    "    img_map = np.asarray(img_map).reshape(img.shape)\n",
    "\n",
    "    return img_map"
   ]
  },
  {
   "cell_type": "code",
   "execution_count": null,
   "metadata": {},
   "outputs": [],
   "source": [
    "fig, ax = plt.subplots(1,3,figsize=(25,10))\n",
    "ax[0].imshow(f_b_seg(img1,130,150),cmap='gray')\n",
    "ax[1].imshow(f_b_seg(img2,185,250),cmap='gray')\n",
    "ax[2].imshow(f_b_seg(img3,130,140),cmap='gray')\n",
    "plt.show()\n",
    "\n",
    "# Segmented Images\n",
    "img1_seg = f_b_seg(img1,130,150)\n",
    "img2_seg = f_b_seg(img2,170,200)\n",
    "img3_seg = f_b_seg(img3,130,140)"
   ]
  },
  {
   "cell_type": "markdown",
   "metadata": {},
   "source": [
    "# Active Contours"
   ]
  },
  {
   "cell_type": "code",
   "execution_count": null,
   "metadata": {},
   "outputs": [],
   "source": [
    "def store_evolution_in(lst):\n",
    "    \"\"\"Returns a callback function to store the evolution of the level sets in\n",
    "    the given list.\n",
    "    \"\"\"\n",
    "\n",
    "    def _store(x):\n",
    "        lst.append(np.copy(x))\n",
    "\n",
    "    return _store"
   ]
  },
  {
   "cell_type": "code",
   "execution_count": null,
   "metadata": {},
   "outputs": [],
   "source": [
    "from skimage.segmentation import morphological_geodesic_active_contour,inverse_gaussian_gradient,disk_level_set\n",
    "\n",
    "fig, ax = plt.subplots(1,3,figsize=(25,10))\n",
    "\n",
    "#Plot Images\n",
    "ax[0].imshow(img1,cmap='gray')\n",
    "ax[1].imshow(img2,cmap='gray')\n",
    "ax[2].imshow(img3,cmap='gray')\n",
    "\n",
    "\n",
    "# Initial level set\n",
    "init_ls = np.zeros(img1.shape, dtype=np.int8)\n",
    "init_ls[300:400, 300:410] = 1\n",
    "evolution = []\n",
    "callback = store_evolution_in(evolution)\n",
    "# List with intermediate results for plotting the evolution\n",
    "ls1 = morphological_geodesic_active_contour(inverse_gaussian_gradient(img1),iterations=230,\n",
    "                                           init_level_set=init_ls,\n",
    "                                           smoothing=1, balloon=1,\n",
    "                                           threshold=0.69,iter_callback=callback)\n",
    "ax[0].contour(ls1)\n",
    "#ax[0].set_title(cv.contourArea(ls1.astype('uint8')))\n",
    "\n",
    "# Initial level set\n",
    "\"\"\"init_ls = np.zeros(img2.shape, dtype=np.int8)\n",
    "init_ls[350:400, 350:400] = 1\"\"\"\n",
    "init_ls = disk_level_set(img2.shape,center=[380,380],radius=30)\n",
    "# List with intermediate results for plotting the evolution\n",
    "ls2 = morphological_geodesic_active_contour(inverse_gaussian_gradient(img2),iterations=230,\n",
    "                                           init_level_set=init_ls,\n",
    "                                           smoothing=1, balloon=-2,\n",
    "                                           threshold=0.4,iter_callback=callback)\n",
    "ax[1].contour(ls2)\n",
    "#ax[1].set_title(cv.contourArea(ls2.astype('uint8')))\n",
    "\n",
    "# Initial level set\n",
    "init_ls = np.zeros(img3.shape, dtype=np.int8)\n",
    "init_ls[240:300, 150:200] = 1\n",
    "# List with intermediate results for plotting the evolution\n",
    "ls3 = morphological_geodesic_active_contour(inverse_gaussian_gradient(img3),iterations=230,\n",
    "                                           init_level_set=init_ls,\n",
    "                                           smoothing=1, balloon=-1,\n",
    "                                           threshold=0.69,iter_callback=callback)\n",
    "ax[2].contour(ls3)\n",
    "#[2].set_title(cv.contourArea(ls3.astype('uint8')))\n"
   ]
  },
  {
   "cell_type": "markdown",
   "metadata": {},
   "source": [
    "# WaterShed"
   ]
  },
  {
   "cell_type": "code",
   "execution_count": null,
   "metadata": {},
   "outputs": [],
   "source": [
    "fig, ax = plt.subplots(1,3,figsize=(25,10))\n",
    "\n",
    "ax[0].imshow(img1,cmap='gray')\n",
    "area,c1,l = watersheding(img1,img1_seg)\n",
    "ax[0].contour(c1[76])\n",
    "ax[0].set_title(f'Area = {area[76]}')\n",
    "\n",
    "ax[1].imshow(img2,cmap='gray')\n",
    "area,c2,l = watersheding(img2,img2_seg)\n",
    "ax[1].contour(c2[35])\n",
    "ax[1].set_title(f'Area = {area[35]}')\n",
    "\n",
    "ax[2].imshow(img3,cmap='gray')\n",
    "area,c3,l = watersheding(img3,img3_seg)\n",
    "ax[2].contour(c3[20])\n",
    "ax[2].set_title(f'Area = {area[20]}')"
   ]
  },
  {
   "cell_type": "markdown",
   "metadata": {},
   "source": [
    "# Validation"
   ]
  },
  {
   "cell_type": "code",
   "execution_count": null,
   "metadata": {},
   "outputs": [],
   "source": [
    "# True annotations\n",
    "anno1,anno2,anno3 = plt.imread('./Data/Annotations/annot2.jpg')[:,:,0], plt.imread('./Data/Annotations/annot1.jpg')[:,:,0], plt.imread('./Data/Annotations/annot3.jpg')[:,:,0]\n",
    "# Morphological snake\n",
    "morph1,morph2,morph3 = ls1,ls2,ls3\n",
    "#Watershed\n",
    "water1,water2,water3 = c1[76],c2[35],c3[20]"
   ]
  },
  {
   "cell_type": "code",
   "execution_count": null,
   "metadata": {},
   "outputs": [],
   "source": [
    "validation(anno1,morph1,water1)"
   ]
  },
  {
   "cell_type": "code",
   "execution_count": null,
   "metadata": {},
   "outputs": [],
   "source": [
    "validation(anno2,morph2,water2)"
   ]
  },
  {
   "cell_type": "code",
   "execution_count": null,
   "metadata": {},
   "outputs": [],
   "source": [
    "validation(anno3,morph3,water3)"
   ]
  },
  {
   "cell_type": "markdown",
   "metadata": {},
   "source": [
    "# Alpha Beta and Alpha expansion"
   ]
  },
  {
   "cell_type": "code",
   "execution_count": null,
   "metadata": {},
   "outputs": [],
   "source": [
    "s1,e1 = alpha_seg(img1,img1_seg)"
   ]
  },
  {
   "cell_type": "code",
   "execution_count": null,
   "metadata": {},
   "outputs": [],
   "source": [
    "s2,e2 = alpha_seg(img2,img2_seg)"
   ]
  },
  {
   "cell_type": "code",
   "execution_count": null,
   "metadata": {},
   "outputs": [],
   "source": [
    "s3,e3 = alpha_seg(img3,img3_seg)"
   ]
  },
  {
   "cell_type": "code",
   "execution_count": null,
   "metadata": {},
   "outputs": [],
   "source": [
    "mask = np.zeros(s1.shape[:2], dtype=\"uint8\")\n",
    "cv.rectangle(mask, (300, 300), (400, 400), 255, -1)\n",
    "s1 = cv.bitwise_and(s1, s1, mask=mask)\n",
    "e1 = cv.bitwise_and(e1, e1, mask=mask)\n",
    "\n",
    "\n",
    "mask = np.zeros(s2.shape[:2], dtype=\"uint8\")\n",
    "cv.circle(mask, (380,380), 30, 255, -1)\n",
    "s2 = cv.bitwise_and(s2, s2, mask=mask)\n",
    "e2 = cv.bitwise_and(e2, e2, mask=mask)\n",
    "\n",
    "\n",
    "mask = np.zeros(s3.shape[:2], dtype=\"uint8\")\n",
    "cv.rectangle(mask, (150, 300), (200, 240), 255, -1)\n",
    "s3 = cv.bitwise_and(s3, s3, mask=mask)\n",
    "e3 = cv.bitwise_and(e3, e3, mask=mask)"
   ]
  },
  {
   "cell_type": "code",
   "execution_count": null,
   "metadata": {},
   "outputs": [],
   "source": [
    "fig, ax = plt.subplots(2,3,figsize=(15,10))\n",
    "ax[0,0].imshow(s1,cmap='gray')\n",
    "ax[0,1].imshow(s2,cmap='gray')\n",
    "ax[0,2].imshow(s3,cmap='gray')\n",
    "ax[1,0].imshow(e1,cmap='gray')\n",
    "ax[1,1].imshow(e2,cmap='gray')\n",
    "ax[1,2].imshow(e3,cmap='gray')\n",
    "plt.show()"
   ]
  },
  {
   "cell_type": "code",
   "execution_count": null,
   "metadata": {},
   "outputs": [],
   "source": [
    "validation(anno1,s1,e1,idx=['Alpha Beta Swap','Alpha Expansion'])"
   ]
  },
  {
   "cell_type": "code",
   "execution_count": null,
   "metadata": {},
   "outputs": [],
   "source": [
    "validation(anno2,s2,e2,idx=['Alpha Beta Swap','Alpha Expansion'])"
   ]
  },
  {
   "cell_type": "code",
   "execution_count": null,
   "metadata": {},
   "outputs": [],
   "source": [
    "validation(anno3,s3,e3,idx=['Alpha Beta Swap','Alpha Expansion'])"
   ]
  },
  {
   "cell_type": "code",
   "execution_count": null,
   "metadata": {},
   "outputs": [],
   "source": []
  }
 ],
 "metadata": {
  "interpreter": {
   "hash": "912bd4a8cb7e87422e6632415b71d4c6e9378d105a96652678ddd495798e2af4"
  },
  "kernelspec": {
   "display_name": "Python 3.7.4 64-bit ('base': conda)",
   "language": "python",
   "name": "python3"
  },
  "language_info": {
   "codemirror_mode": {
    "name": "ipython",
    "version": 3
   },
   "file_extension": ".py",
   "mimetype": "text/x-python",
   "name": "python",
   "nbconvert_exporter": "python",
   "pygments_lexer": "ipython3",
   "version": "3.7.4"
  },
  "orig_nbformat": 4
 },
 "nbformat": 4,
 "nbformat_minor": 2
}
